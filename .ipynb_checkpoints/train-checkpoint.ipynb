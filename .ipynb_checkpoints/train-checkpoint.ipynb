{
  "nbformat": 4,
  "nbformat_minor": 0,
  "metadata": {
    "colab": {
      "private_outputs": true,
      "provenance": []
    },
    "kernelspec": {
      "name": "python3",
      "display_name": "Python 3"
    },
    "language_info": {
      "name": "python"
    }
  },
  "cells": [
    {
      "cell_type": "code",
      "source": [
        "import pandas as pd\n",
        "import numpy as np"
      ],
      "metadata": {
        "id": "t3m-DoizsQCi"
      },
      "execution_count": null,
      "outputs": []
    },
    {
      "cell_type": "code",
      "source": [
        "from sklearn.neighbors import KNeighborsClassifier"
      ],
      "metadata": {
        "id": "qtN9JYg8sT0H"
      },
      "execution_count": null,
      "outputs": []
    },
    {
      "cell_type": "code",
      "source": [
        "data = pd.read_csv('https://gist.githubusercontent.com/curran/a08a1080b88344b0c8a7/raw/0e7a9b0a5d22642a06d3d5b9bcbad9890c8ee534/iris.csv')"
      ],
      "metadata": {
        "id": "749QpBAYsiQz"
      },
      "execution_count": null,
      "outputs": []
    },
    {
      "cell_type": "code",
      "source": [
        "data"
      ],
      "metadata": {
        "id": "vykwCWxysn0R"
      },
      "execution_count": null,
      "outputs": []
    },
    {
      "cell_type": "code",
      "source": [
        "x = data[['sepal_length','sepal_width','petal_length','petal_width'\t]]"
      ],
      "metadata": {
        "id": "jzqvIRPssoNE"
      },
      "execution_count": null,
      "outputs": []
    },
    {
      "cell_type": "code",
      "source": [
        "x"
      ],
      "metadata": {
        "id": "IwD6pZE_sxXn"
      },
      "execution_count": null,
      "outputs": []
    },
    {
      "cell_type": "code",
      "source": [
        "y = data['species']"
      ],
      "metadata": {
        "id": "ywpATCYWsyK_"
      },
      "execution_count": null,
      "outputs": []
    },
    {
      "cell_type": "code",
      "source": [
        "len(y)"
      ],
      "metadata": {
        "id": "49JbOSE1uwe-"
      },
      "execution_count": null,
      "outputs": []
    },
    {
      "cell_type": "code",
      "source": [
        "set(y)"
      ],
      "metadata": {
        "id": "EOWSAD9Js3q-"
      },
      "execution_count": null,
      "outputs": []
    },
    {
      "cell_type": "code",
      "source": [
        "label = {1:'setosa', 2:'versicolor', 3:'virginica'}"
      ],
      "metadata": {
        "id": "5a-jm9TKs_Zs"
      },
      "execution_count": null,
      "outputs": []
    },
    {
      "cell_type": "code",
      "source": [
        "y = y.replace('setosa',1)\n",
        "y = y.replace('versicolor',2)\n",
        "y = y.replace('virginica',3)"
      ],
      "metadata": {
        "id": "hFfbmi5ntfme"
      },
      "execution_count": null,
      "outputs": []
    },
    {
      "cell_type": "code",
      "source": [
        "y"
      ],
      "metadata": {
        "id": "YUUAcSJyt2_C"
      },
      "execution_count": null,
      "outputs": []
    },
    {
      "cell_type": "code",
      "source": [
        "from sklearn.model_selection import train_test_split"
      ],
      "metadata": {
        "id": "Zct735i8t3x5"
      },
      "execution_count": null,
      "outputs": []
    },
    {
      "cell_type": "code",
      "source": [
        "X_train, X_test, y_train, y_test  = train_test_split(x,y,test_size=0.1,random_state=44)"
      ],
      "metadata": {
        "id": "WJ9SSX9YuH_Z"
      },
      "execution_count": null,
      "outputs": []
    },
    {
      "cell_type": "code",
      "source": [
        "neigh = KNeighborsClassifier(n_neighbors=3)"
      ],
      "metadata": {
        "id": "J1hsomJQuXwM"
      },
      "execution_count": null,
      "outputs": []
    },
    {
      "cell_type": "code",
      "source": [
        "neigh.fit(X_train,y_train)"
      ],
      "metadata": {
        "id": "5pMm12-lu8l9"
      },
      "execution_count": null,
      "outputs": []
    },
    {
      "cell_type": "code",
      "source": [
        "output = neigh.predict([[5.1,3.5,1.4,0.2]])"
      ],
      "metadata": {
        "id": "wsGhxNqgvSNQ"
      },
      "execution_count": null,
      "outputs": []
    },
    {
      "cell_type": "code",
      "source": [
        "print(label[int(output)] == 'setosa')\n"
      ],
      "metadata": {
        "id": "_Nc59A78vzEd"
      },
      "execution_count": null,
      "outputs": []
    },
    {
      "cell_type": "code",
      "source": [
        "from joblib import dump, load\n",
        "dump(neigh, 'model.joblib')"
      ],
      "metadata": {
        "id": "yMJ2_q11v0OS"
      },
      "execution_count": null,
      "outputs": []
    },
    {
      "cell_type": "code",
      "source": [
        "model = load('/content/model.joblib')"
      ],
      "metadata": {
        "id": "lVDh2Qnw4ofc"
      },
      "execution_count": null,
      "outputs": []
    },
    {
      "cell_type": "code",
      "source": [
        "model.predict([[5.1,3.5,1.4,0.2]])"
      ],
      "metadata": {
        "id": "HVYXC4oB1KSe"
      },
      "execution_count": null,
      "outputs": []
    },
    {
      "cell_type": "markdown",
      "source": [
        "#accurcy Score"
      ],
      "metadata": {
        "id": "Z6glQ6-IzDrg"
      }
    },
    {
      "cell_type": "code",
      "source": [
        "prediction = neigh.predict(X_test)"
      ],
      "metadata": {
        "id": "gUF6iLFazGzF"
      },
      "execution_count": null,
      "outputs": []
    },
    {
      "cell_type": "code",
      "source": [
        "from sklearn.metrics import accuracy_score"
      ],
      "metadata": {
        "id": "ZOA0hDqQzNXp"
      },
      "execution_count": null,
      "outputs": []
    },
    {
      "cell_type": "code",
      "source": [
        "accuracy_score(y_test,prediction)"
      ],
      "metadata": {
        "id": "25gLRyLizh-O"
      },
      "execution_count": null,
      "outputs": []
    },
    {
      "cell_type": "code",
      "source": [],
      "metadata": {
        "id": "XHy5-0kEzqni"
      },
      "execution_count": null,
      "outputs": []
    }
  ]
}